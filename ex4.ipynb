{
 "cells": [
  {
   "cell_type": "code",
   "execution_count": 16,
   "metadata": {},
   "outputs": [],
   "source": [
    "%matplotlib inline\n",
    "\n",
    "import sys\n",
    "import PIL.Image\n",
    "import scipy.misc, scipy.io, scipy.optimize, scipy.special\n",
    "\n",
    "from numpy import *\n",
    "import pylab\n",
    "from matplotlib import pyplot, cm\n",
    "from mpl_toolkits.mplot3d import Axes3D\n",
    "import matplotlib.mlab as mlaba\n",
    "\n",
    "from util import Util\n",
    "import timeit\n",
    "import cProfile, pstats, io\n",
    "\n",
    "EX_DIRECTORY_PATH = './data/'\n",
    "\n",
    "def recodeLabel( y, k ):\n",
    "    m = shape(y)[0]\n",
    "    out = zeros( ( k, m ) )\n",
    "    \n",
    "    for i in range(0, m):\n",
    "        out[y[i]-1, i] = 1\n",
    "\n",
    "    return out\n",
    "\n",
    "def mod( length, divisor ):\n",
    "    dividend = array([x for x in range(1, length+1)])\n",
    "    divisor  = array([divisor for x in range(1, length+1)])\n",
    "    return mod( dividend, divisor ).reshape(1, length )\n",
    "\n",
    "def sigmoid( z ):\n",
    "    return scipy.special.expit(z)\n",
    "\n",
    "def sigmoidGradient( z ):\n",
    "    sig = sigmoid(z)\n",
    "    return sig * (1 - sig)\n",
    "\n",
    "def predict( X, theta1, theta2 ):\n",
    "    a1 = r_[ones((1, 1)), X.reshape( shape(X)[0], 1 )]\n",
    "    z2 = sigmoid( theta1.dot( a1 ))\n",
    "    z2 = r_[ones((1, 1)), z2]\n",
    "    z3 = sigmoid(theta2.dot( z2 ))\n",
    "    return argmax(z3) + 1\n",
    "\n",
    "def paramUnroll( nn_params, input_layer_size, hidden_layer_size, num_labels ):\n",
    "    theta1_elems = ( input_layer_size + 1 ) * hidden_layer_size\n",
    "    theta1_size  = ( input_layer_size + 1, hidden_layer_size  )\n",
    "    theta2_size  = ( hidden_layer_size + 1, num_labels )\n",
    "\n",
    "    theta1 = nn_params[:theta1_elems].T.reshape( theta1_size ).T    \n",
    "    theta2 = nn_params[theta1_elems:].T.reshape( theta2_size ).T\n",
    "\n",
    "    return (theta1, theta2)\n",
    "\n",
    "def feedForward( theta1, theta2, X, X_bias = None ):\n",
    "    one_rows = ones((1, shape(X)[0] ))\n",
    "    \n",
    "    a1 = r_[one_rows, X.T]  if X_bias is None else X_bias\n",
    "    z2 = theta1.dot( a1 )\n",
    "    a2 = sigmoid(z2)\n",
    "    a2 = r_[one_rows, a2] \n",
    "    z3 = theta2.dot( a2 )\n",
    "    a3 = sigmoid( z3 )\n",
    "\n",
    "    return (a1, a2, a3, z2, z3)\n",
    "\n",
    "def computeCost( nn_params, input_layer_size, hidden_layer_size, num_labels, X, y, lamda, yk = None, X_bias = None ):\n",
    "    m, n                 = shape( X )\n",
    "    theta1, theta2         = paramUnroll( nn_params, input_layer_size, hidden_layer_size, num_labels )\n",
    "    a1, a2, a3, z2, z3     = feedForward( theta1, theta2, X, X_bias )\n",
    "\n",
    "    # calculating cost\n",
    "    if yk is None:\n",
    "        yk = recodeLabel( y, num_labels )\n",
    "        assert shape(yk) == shape(a3), \"Error, shape of recoded y is different from a3\"\n",
    "\n",
    "    term1         = -yk * log( a3 )\n",
    "    term2         = (1 - yk) * log( 1 - a3 )\n",
    "    left_term     = sum(term1 - term2) / m\n",
    "    right_term     = sum(theta1[:,1:] ** 2) + sum(theta2[:,1:] ** 2)\n",
    "\n",
    "    return left_term + right_term * lamda / (2 * m)\n",
    "\n",
    "def computeGradient( nn_params, input_layer_size, hidden_layer_size, num_labels, X, y, lamda, yk = None, X_bias = None ):\n",
    "    m, n                 = shape( X )\n",
    "    theta1, theta2         = paramUnroll( nn_params, input_layer_size, hidden_layer_size, num_labels )\n",
    "    a1, a2, a3, z2, z3     = feedForward( theta1, theta2, X, X_bias )\n",
    "\n",
    "    # back propagate\n",
    "    if yk is None:\n",
    "        yk = recodeLabel( y, num_labels )\n",
    "        assert shape(yk) == shape(a3), \"Error, shape of recoded y is different from a3\"\n",
    "\n",
    "    sigma3 = a3 - yk\n",
    "    sigma2 = theta2.T.dot( sigma3 ) * sigmoidGradient( r_[ones((1, m)), z2 ] )\n",
    "    sigma2 = sigma2[1:,:]\n",
    "    accum1 = sigma2.dot( a1.T ) / m\n",
    "    accum2 = sigma3.dot( a2.T ) / m\n",
    "\n",
    "    accum1[:,1:] = accum1[:,1:] + (theta1[:,1:] * lamda / m)\n",
    "    accum2[:,1:] = accum2[:,1:] + (theta2[:,1:] * lamda / m)\n",
    "    accum = array([accum1.T.reshape(-1).tolist() + accum2.T.reshape(-1).tolist()]).T\n",
    "    return ndarray.flatten(accum)\n",
    "\n",
    "def nnCostFunction( nn_params, input_layer_size, hidden_layer_size, num_labels, X, y, lamda ):\n",
    "    m, n                 = shape( X )\n",
    "    theta1, theta2         = paramUnroll( nn_params, input_layer_size, hidden_layer_size, num_labels )\n",
    "    a1, a2, a3, z2, z3     = feedForward( theta1, theta2, X )\n",
    "\n",
    "    # calculating cost\n",
    "    yk             = recodeLabel( y.T, num_labels )\n",
    "    assert shape(yk) == shape(a3), \"Error, shape of recoded y is different from a3\"\n",
    "\n",
    "    term1         = -yk * log( a3 )\n",
    "    term2         = (1-yk) * log( 1 - a3 )\n",
    "    left_term     = sum(term1 - term2) / m\n",
    "    right_term     = sum(theta1[:,1:] ** 2) + sum(theta2[:,1:] ** 2)\n",
    "    right_term     = right_term * lamda / (2 * m)\n",
    "    cost         = left_term + right_term\n",
    "\n",
    "    # back propagate\n",
    "    sigma3 = a3 - yk\n",
    "    sigma2 = theta2.T.dot( sigma3 ) * sigmoidGradient( r_[ ones((1, m)), z2 ] )\n",
    "    sigma2 = sigma2[1:,:]\n",
    "\n",
    "    accum1 = sigma2.dot( a1.T ) / m\n",
    "    accum2 = sigma3.dot( a2.T ) / m\n",
    "\n",
    "    accum1[:,1:] = accum1[:,1:] + (theta1[:,1:] * lamda / m)\n",
    "    accum2[:,1:] = accum2[:,1:] + (theta2[:,1:] * lamda / m)\n",
    "\n",
    "    gradient      = array([accum1.T.reshape(-1).tolist() + accum2.T.reshape(-1).tolist()]).T\n",
    "\n",
    "    return (cost, gradient)\n",
    "\n",
    "def randInitializeWeights(L_in, L_out):\n",
    "    e = 0.12\n",
    "    w = random.random((L_out, L_in + 1)) * 2 * e - e\n",
    "    return w\n",
    "\n",
    "def debugInitializeWeights(fan_out, fan_in):\n",
    "    num_elements = fan_out * (1+fan_in)\n",
    "    w = array([sin(x) / 10 for x in range(1, num_elements+1)])\n",
    "    w = w.reshape( 1+fan_in, fan_out ).T\n",
    "    return w\n",
    "\n",
    "def computeNumericalGradient( theta, input_layer_size, hidden_layer_size, num_labels, X, y, lamda ):\n",
    "    numgrad     = zeros( shape(theta) )\n",
    "    perturb     = zeros( shape(theta) ) #38 x 1\n",
    "    e = 1e-4\n",
    "\n",
    "    num_elements = shape(theta)[0]\n",
    "    yk = recodeLabel( y, num_labels )\n",
    "\n",
    "    for p in range(0, num_elements) :\n",
    "        perturb[p] = e\n",
    "        loss1 = computeCost( theta - perturb, input_layer_size, hidden_layer_size, num_labels, X, y, lamda, yk )\n",
    "        loss2 = computeCost( theta + perturb, input_layer_size, hidden_layer_size, num_labels, X, y, lamda, yk )\n",
    "        numgrad[p] = (loss2 - loss1) / (2 * e)\n",
    "        perturb[p] = 0\n",
    "\n",
    "    return numgrad\n",
    "\n",
    "def checkNNGradients( lamda = 0.0 ):\n",
    "    input_layer_size     = 3\n",
    "    hidden_layer_size     = 5\n",
    "    num_labels             = 3\n",
    "    m                     = 5\n",
    "\n",
    "    theta1 = debugInitializeWeights( hidden_layer_size, input_layer_size )\n",
    "    theta2 = debugInitializeWeights( num_labels, hidden_layer_size )\n",
    "\n",
    "    X = debugInitializeWeights( m, input_layer_size - 1 )\n",
    "    y = 1 + mod( m, num_labels )\n",
    "\n",
    "    nn_params     = array([theta1.T.reshape(-1).tolist() + theta2.T.reshape(-1).tolist()]).T\n",
    "    gradient     = nnCostFunction( nn_params, input_layer_size, hidden_layer_size, num_labels, X, y, lamda )[1]\n",
    "    numgrad     = computeNumericalGradient( nn_params, input_layer_size, hidden_layer_size, num_labels, X, y, lamda )\n",
    "    diff = linalg.norm( numgrad - gradient ) / (linalg.norm( numgrad + gradient ))\n",
    "    print (diff)\n",
    "\n",
    "def displayData( X, theta1 = None, theta2 = None ):\n",
    "    m, n = shape( X )\n",
    "    width = int(sqrt( n ))\n",
    "    rows, cols = 5, 5\n",
    "    print(\"width:\",width,\"row:\",rows,\"cols:\",cols);\n",
    "    out = zeros((width * rows, width * cols))\n",
    "\n",
    "    rand_indices = random.permutation( m )[0:rows * cols]\n",
    "\n",
    "    counter = 0\n",
    "    for y in range(0, rows):\n",
    "        for x in range(0, cols):\n",
    "            start_x = x * width\n",
    "            start_y = y * width\n",
    "            out[start_x:start_x+width, start_y:start_y+width] = X[rand_indices[counter]].reshape(width, width).T\n",
    "            counter += 1\n",
    "\n",
    "    img     = Util.toimage( out )\n",
    "    figure  = pyplot.figure()\n",
    "    axes    = figure.add_subplot(111)\n",
    "    axes.imshow( img )\n",
    "\n",
    "\n",
    "    if theta1 is not None and theta2 is not None:\n",
    "        result_matrix     = []\n",
    "        \n",
    "        for idx in rand_indices:\n",
    "            result = predict( X[idx], theta1, theta2 )\n",
    "            result_matrix.append( result )\n",
    "\n",
    "        result_matrix = array( result_matrix ).reshape( rows, cols ).transpose()\n",
    "        print(result_matrix)\n",
    "\n",
    "    pyplot.show( )\n",
    "\n",
    "def part1_1():\n",
    "    mat = scipy.io.loadmat( EX_DIRECTORY_PATH + \"ex4data1.mat\" )\n",
    "    X, y = mat['X'], mat['y']\n",
    "    displayData( X )\n",
    "\n",
    "def part1_2():\n",
    "    mat = scipy.io.loadmat( EX_DIRECTORY_PATH + \"ex4data1.mat\" )\n",
    "    X, y = mat['X'], mat['y']\n",
    "    m, n = shape(X)\n",
    "\n",
    "    # Load the weights\n",
    "    mat = scipy.io.loadmat( EX_DIRECTORY_PATH + \"ex4weights.mat\" )\n",
    "    theta1, theta2 = mat['Theta1'], mat['Theta2']\n",
    "\n",
    "    nn_params = [theta1.T.flatten(), theta2.T.flatten()]\n",
    "\n",
    "def part1_3():\n",
    "    mat = scipy.io.loadmat( EX_DIRECTORY_PATH + \"ex4data1.mat\" )\n",
    "    X, y = mat['X'], mat['y']\n",
    "\n",
    "    # Load the weights\n",
    "    mat = scipy.io.loadmat( EX_DIRECTORY_PATH + \"ex4weights.mat\" )\n",
    "    theta1, theta2 = mat['Theta1'], mat['Theta2']\n",
    "\n",
    "    input_layer_size      = 400\n",
    "    hidden_layer_size     = 25\n",
    "    num_labels             = 10\n",
    "    lamda                 = 0\n",
    "\n",
    "    params = r_[theta1.T.flatten(), theta2.T.flatten()]\n",
    "\n",
    "    print(computeGradient( params, input_layer_size, hidden_layer_size, num_labels, X, y, lamda ))\n",
    "    print(computeCost( params, input_layer_size, hidden_layer_size, num_labels, X, y, lamda ))\n",
    "\n",
    "def part1_4():\n",
    "    mat = scipy.io.loadmat( EX_DIRECTORY_PATH +  \"ex4data1.mat\" )\n",
    "    X, y = mat['X'], mat['y']\n",
    "\n",
    "    # Load the weights\n",
    "    mat = scipy.io.loadmat( EX_DIRECTORY_PATH +  \"ex4weights.mat\" )\n",
    "    theta1, theta2 = mat['Theta1'], mat['Theta2']\n",
    "\n",
    "    input_layer_size      = 400\n",
    "    hidden_layer_size     = 25\n",
    "    num_labels             = 10\n",
    "    lamda                 = 1\n",
    "\n",
    "    params = r_[theta1.T.flatten(), theta2.T.flatten()]\n",
    "    print (computeCost( params, input_layer_size, hidden_layer_size, num_labels, X, y, lamda ))\n",
    "\n",
    "def part2_1():\n",
    "    print(sigmoidGradient( 0 ))\n",
    "    print(sigmoidGradient( array([1, -0.5, 0, 0.5, 1]) ))\n",
    "\n",
    "def part2_2():\n",
    "    theta1 = randInitializeWeights( 400, 25 )\n",
    "    theta2 = randInitializeWeights( 25, 10 )\n",
    "    unraveled = r_[theta1.T.flatten(), theta2.T.flatten()]\n",
    "    \n",
    "def part2_3():\n",
    "    mat = scipy.io.loadmat( EX_DIRECTORY_PATH +  \"ex4data1.mat\" )\n",
    "    X, y = mat['X'], mat['y']\n",
    "    m, n = shape(X)\n",
    "\n",
    "    mat = scipy.io.loadmat( EX_DIRECTORY_PATH +  \"ex4weights.mat\" )\n",
    "    theta1, theta2 = mat['Theta1'], mat['Theta2']\n",
    "\n",
    "    \n",
    "    input_layer_size      = 400\n",
    "    hidden_layer_size     = 25\n",
    "    num_labels             = 10\n",
    "    lamda                 = 1\n",
    "\n",
    "    unraveled = r_[theta1.T.flatten(), theta2.T.flatten()]\n",
    "\n",
    "    J, theta = nnCostFunction( unraveled, input_layer_size, hidden_layer_size, num_labels, X, y.T, lamda )\n",
    "    print(J)\n",
    "    print(theta)\n",
    "\n",
    "\n",
    "def part2_4():\n",
    "    mat = scipy.io.loadmat( EX_DIRECTORY_PATH +  \"ex4data1.mat\" )\n",
    "    X, y = mat['X'], mat['y']\n",
    "    m, n = shape(X)\n",
    "\n",
    "    mat = scipy.io.loadmat( EX_DIRECTORY_PATH +  \"ex4weights.mat\" )\n",
    "    theta1, theta2 = mat['Theta1'], mat['Theta2']\n",
    "    \n",
    "    input_layer_size      = 400\n",
    "    hidden_layer_size     = 25\n",
    "    num_labels             = 10\n",
    "    lamda                 = 1\n",
    "\n",
    "    unraveled = r_[theta1.T.flatten(), theta2.T.flatten()]\n",
    "\n",
    "    print(computeNumericalGradient( unraveled, input_layer_size, hidden_layer_size, num_labels, X, y, lamda ))\n",
    "\n",
    "\n",
    "def part2_5():\n",
    "    mat = scipy.io.loadmat( EX_DIRECTORY_PATH +  \"ex4data1.mat\" )\n",
    "    X, y = mat['X'], mat['y']\n",
    "    m, n = shape(X)\n",
    "\n",
    "    mat = scipy.io.loadmat( EX_DIRECTORY_PATH +  \"ex4weights.mat\" )\n",
    "    theta1, theta2 = mat['Theta1'], mat['Theta2']\n",
    "\n",
    "    input_layer_size      = 400\n",
    "    hidden_layer_size     = 25\n",
    "    num_labels             = 10\n",
    "    lamda                 = 3\n",
    "\n",
    "    unraveled = r_[theta1.T.flatten(), theta2.T.flatten()]\n",
    "    J, theta = nnCostFunction( unraveled, input_layer_size, hidden_layer_size, num_labels, X, y.T, lamda )\n",
    "    print(J)\n",
    "\n",
    "def part2_6():\n",
    "    mat = scipy.io.loadmat( EX_DIRECTORY_PATH +  \"ex4data1.mat\" )\n",
    "    X, y = mat['X'], mat['y']\n",
    "    m, n = shape(X)\n",
    "\n",
    "    input_layer_size      = 400\n",
    "    hidden_layer_size     = 25\n",
    "    num_labels             = 10\n",
    "    lamda                 = 1.0\n",
    "\n",
    "    theta1 = randInitializeWeights( 400, 25 )\n",
    "    theta2 = randInitializeWeights( 25, 10 )\n",
    "\n",
    "    yk             = recodeLabel( y, num_labels )\n",
    "    unraveled     = r_[theta1.T.flatten(), theta2.T.flatten()]\n",
    "\n",
    "    X_bias = r_[ ones((1, shape(X)[0] )), X.T] \n",
    "\n",
    "    result = scipy.optimize.fmin_cg( computeCost, fprime=computeGradient, x0=unraveled, \\\n",
    "                                    args=(input_layer_size, hidden_layer_size, num_labels, X, y, lamda, yk, X_bias), \\\n",
    "                                    maxiter=500, disp=True, full_output=True )\n",
    "    print(result[1])\n",
    "    theta1, theta2         = paramUnroll( result[0], input_layer_size, hidden_layer_size, num_labels )\n",
    "\n",
    "    displayData( X, theta1, theta2 )\n",
    "\n",
    "    counter = 0\n",
    "    for i in range(0, m):\n",
    "        prediction = predict( X[i], theta1, theta2 )\n",
    "        actual = y[i]\n",
    "        if( prediction == actual ):\n",
    "            counter+=1\n",
    "    print(counter * 100 / m)"
   ]
  },
  {
   "cell_type": "code",
   "execution_count": 5,
   "metadata": {},
   "outputs": [],
   "source": [
    "def main():\n",
    "    set_printoptions(precision=6, linewidth=200)"
   ]
  },
  {
   "cell_type": "code",
   "execution_count": 6,
   "metadata": {},
   "outputs": [
    {
     "name": "stdout",
     "output_type": "stream",
     "text": [
      "width: 20 row: 5 cols: 5\n"
     ]
    },
    {
     "data": {
      "image/png": "[encoded data removed]",
      "text/plain": [
       "<Figure size 432x288 with 1 Axes>"
      ]
     },
     "metadata": {
      "needs_background": "light"
     },
     "output_type": "display_data"
    }
   ],
   "source": [
    "    part1_1()"
   ]
  },
  {
   "cell_type": "code",
   "execution_count": 7,
   "metadata": {},
   "outputs": [],
   "source": [
    "    part1_2()"
   ]
  },
  {
   "cell_type": "code",
   "execution_count": 8,
   "metadata": {},
   "outputs": [
    {
     "name": "stdout",
     "output_type": "stream",
     "text": [
      "[ 6.18712766e-05  9.38798109e-05 -1.92593606e-04 ...  1.27957448e-03\n",
      "  1.35707295e-03  7.73329872e-04]\n",
      "0.28762916516131887\n"
     ]
    }
   ],
   "source": [
    "    part1_3()"
   ]
  },
  {
   "cell_type": "code",
   "execution_count": 9,
   "metadata": {},
   "outputs": [
    {
     "name": "stdout",
     "output_type": "stream",
     "text": [
      "0.3837698590909236\n"
     ]
    }
   ],
   "source": [
    "    part1_4()"
   ]
  },
  {
   "cell_type": "code",
   "execution_count": 10,
   "metadata": {},
   "outputs": [
    {
     "name": "stdout",
     "output_type": "stream",
     "text": [
      "0.25\n",
      "[0.19661193 0.23500371 0.25       0.23500371 0.19661193]\n"
     ]
    }
   ],
   "source": [
    "    part2_1()"
   ]
  },
  {
   "cell_type": "code",
   "execution_count": 11,
   "metadata": {},
   "outputs": [],
   "source": [
    "    part2_2()"
   ]
  },
  {
   "cell_type": "code",
   "execution_count": 12,
   "metadata": {},
   "outputs": [
    {
     "name": "stdout",
     "output_type": "stream",
     "text": [
      "0.3837698590909236\n",
      "[[ 6.18712766e-05]\n",
      " [ 9.38798109e-05]\n",
      " [-1.92593606e-04]\n",
      " ...\n",
      " [ 8.57546470e-04]\n",
      " [ 9.30689893e-04]\n",
      " [ 5.07825789e-04]]\n"
     ]
    }
   ],
   "source": [
    "    part2_3()"
   ]
  },
  {
   "cell_type": "code",
   "execution_count": 13,
   "metadata": {},
   "outputs": [],
   "source": [
    "    # part2_4() #real slow"
   ]
  },
  {
   "cell_type": "code",
   "execution_count": 14,
   "metadata": {},
   "outputs": [
    {
     "name": "stdout",
     "output_type": "stream",
     "text": [
      "0.5760512469501331\n"
     ]
    }
   ],
   "source": [
    "    part2_5()"
   ]
  },
  {
   "cell_type": "code",
   "execution_count": 15,
   "metadata": {},
   "outputs": [
    {
     "name": "stdout",
     "output_type": "stream",
     "text": [
      "Warning: Maximum number of iterations has been exceeded.\n",
      "         Current function value: 0.314954\n",
      "         Iterations: 500\n",
      "         Function evaluations: 1167\n",
      "         Gradient evaluations: 1167\n",
      "0.314954139729873\n",
      "width: 20 row: 5 cols: 5\n",
      "[[ 4  6 10  3  7]\n",
      " [10  7  8  6  4]\n",
      " [10  3  9 10  8]\n",
      " [ 9  5  8  1  8]\n",
      " [ 2 10  2  6  4]]\n"
     ]
    },
    {
     "data": {
      "image/png": "[encoded data removed]",
      "text/plain": [
       "<Figure size 432x288 with 1 Axes>"
      ]
     },
     "metadata": {
      "needs_background": "light"
     },
     "output_type": "display_data"
    },
    {
     "name": "stdout",
     "output_type": "stream",
     "text": [
      "99.52\n"
     ]
    }
   ],
   "source": [
    "    part2_6()"
   ]
  },
  {
   "cell_type": "code",
   "execution_count": null,
   "metadata": {},
   "outputs": [],
   "source": [
    "if __name__ == '__main__':\n",
    "    main()"
   ]
  }
 ],
 "metadata": {
  "kernelspec": {
   "display_name": "Python 3",
   "language": "python",
   "name": "python3"
  },
  "language_info": {
   "codemirror_mode": {
    "name": "ipython",
    "version": 3
   },
   "file_extension": ".py",
   "mimetype": "text/x-python",
   "name": "python",
   "nbconvert_exporter": "python",
   "pygments_lexer": "ipython3",
   "version": "3.7.4"
  }
 },
 "nbformat": 4,
 "nbformat_minor": 4
}
