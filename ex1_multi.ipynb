{
 "cells": [
  {
   "cell_type": "code",
   "execution_count": 2,
   "metadata": {},
   "outputs": [],
   "source": [
    "%matplotlib inline\n",
    "'''Standard python modules'''\n",
    "import sys\n",
    "\n",
    "'''For scientific computing'''\n",
    "from numpy import *\n",
    "import scipy\n",
    "\n",
    "'''For plotting'''\n",
    "from matplotlib import pyplot, cm\n",
    "from mpl_toolkits.mplot3d import Axes3D\n",
    "\n",
    "EX_DIRECTORY_PATH = './data/'\n",
    "\n",
    "def featureNormalizeLoop( data ):\n",
    "    \"\"\"Normalize the features using loop, this is the slower version\"\"\"\n",
    "    mu          = []\n",
    "    sigma       = []\n",
    "    data_norm = zeros( shape(data), data.dtype )\n",
    "\n",
    "    for col in range( 0, shape(data)[1] ):\n",
    "        mu.append    ( mean( data[:, col] ) )\n",
    "        sigma.append( std ( data[:, col], ddof=1 ) ) # if ddof = 0 sigma will be uncorrected sample standard deviation\n",
    "        data_norm[:, col] = map( lambda x: (x - mu[col]) / sigma[col], data[:, col] )\n",
    "        \n",
    "    return data_norm, array(mu), array( sigma )\n",
    "\n",
    "\n",
    "def featureNormalize( data ):\n",
    "    \"\"\"A vectorized version of feature normalization\"\"\"\n",
    "    mu             = mean( data, axis=0 )\n",
    "    data_norm     = data - mu\n",
    "    sigma         = std( data_norm, axis=0, ddof=1 )\n",
    "    data_norm     = data_norm / sigma\n",
    "    return data_norm, mu, sigma\n",
    "\n",
    "\n",
    "def gradientDescent( X, y, theta, alpha, iters, m ):\n",
    "    \"\"\"Run a gradient descent\"\"\"\n",
    "    grad  = copy( theta )\n",
    "    max_j         = shape(X)[1]\n",
    "    J_history     = []\n",
    "    alpha_div_m = alpha / m\n",
    "\n",
    "    for counter in range( 0, iters ):\n",
    "        inner_sum     = X.T.dot(X.dot( grad ) - y)\n",
    "        grad         = grad - alpha_div_m * inner_sum\n",
    "        J_history.append( computeCost(X, y, grad, m ) )\n",
    "\n",
    "    return J_history, grad\n",
    "\n",
    "\n",
    "def computeCost( X, y, theta, m ):\n",
    "    term = X.dot( theta ) - y\n",
    "    return ( term.T.dot( term ) / (2 * m) )[0, 0]\n",
    "\n",
    "def normalEquation( X, y ):\n",
    "    return linalg.inv(X.T.dot( X )).dot( X.T ).dot( y )\n",
    "\n",
    "\n",
    "def part3_1():\n",
    "    data = genfromtxt( EX_DIRECTORY_PATH + \"ex1data2.txt\", delimiter = ',' )\n",
    "    X = data[:, 0:2]\n",
    "    y = data[:, 2:3]\n",
    "\n",
    "    X, mu, sigma = featureNormalize( X )\n",
    "    print (X)\n",
    "    print (mu)\n",
    "    print (sigma)\n",
    "\n",
    "def part3_2():\n",
    "    data = genfromtxt( EX_DIRECTORY_PATH + \"ex1data2.txt\", delimiter = ',' )\n",
    "    X = data[:, 0:2]\n",
    "    y = data[:, 2:3]\n",
    "    m = shape( X )[0]\n",
    "\n",
    "    X, mu, sigma = featureNormalize( X )\n",
    "\n",
    "    X             = c_[ ones((m, 1)), X ] # add intercept to X\n",
    "    iterations     = 400\n",
    "    alphas         = [0.01, 0.03, 0.1, 0.3, 1.0]\n",
    "\n",
    "    # for each alpha, try to do gradient descent and plot the convergence curve\n",
    "    for alpha in alphas:\n",
    "        theta = zeros( (3, 1) )\n",
    "        J_history, theta = gradientDescent( X, y, theta, alpha, iterations, m )\n",
    "\n",
    "        # create an array of number of iterations\n",
    "        number_of_iterations = array( [x for x in range( 1, iterations + 1 )] ).reshape( iterations, 1)\n",
    "\n",
    "        pyplot.plot( number_of_iterations, J_history, '-b' )\n",
    "        pyplot.title( \"Alpha = %f\" % (alpha) )\n",
    "        pyplot.xlabel('Number of iterations')\n",
    "        pyplot.ylabel('Cost J')\n",
    "        pyplot.xlim( [0, 50] )\n",
    "        pyplot.show( block=True )\n",
    "\n",
    "        # 1650 sq feet 3 bedroom house\n",
    "        test = array([1.0, 1650.0, 3.0])\n",
    "        # exclude intercept units\n",
    "        test[1:] = (test[1:] - mu) / sigma\n",
    "        print(test.dot( theta ))\n",
    "\n",
    "    \n",
    "def part3_3():\n",
    "    data = genfromtxt( EX_DIRECTORY_PATH + \"ex1data2.txt\", delimiter = ',' )\n",
    "    X = data[:, 0:2]\n",
    "    y = data[:, 2:3]\n",
    "    m = shape( X )[0]\n",
    "\n",
    "    X = c_[ ones((m, 1)), X ] # add intercept to X\n",
    "\n",
    "    theta = normalEquation( X, y )\n",
    "    # 1650 sq feet 3 bedroom house\n",
    "    test = array([1.0, 1650.0, 3.0])\n",
    "    print(test.dot( theta ))\n",
    "\n",
    "\n",
    "def main():\n",
    "    set_printoptions(precision=6, linewidth=200)"
   ]
  },
  {
   "cell_type": "code",
   "execution_count": 3,
   "metadata": {},
   "outputs": [
    {
     "name": "stdout",
     "output_type": "stream",
     "text": [
      "[[ 1.30009869e-01 -2.23675187e-01]\n",
      " [-5.04189838e-01 -2.23675187e-01]\n",
      " [ 5.02476364e-01 -2.23675187e-01]\n",
      " [-7.35723065e-01 -1.53776691e+00]\n",
      " [ 1.25747602e+00  1.09041654e+00]\n",
      " [-1.97317285e-02  1.09041654e+00]\n",
      " [-5.87239800e-01 -2.23675187e-01]\n",
      " [-7.21881404e-01 -2.23675187e-01]\n",
      " [-7.81023044e-01 -2.23675187e-01]\n",
      " [-6.37573110e-01 -2.23675187e-01]\n",
      " [-7.63567023e-02  1.09041654e+00]\n",
      " [-8.56737193e-04 -2.23675187e-01]\n",
      " [-1.39273340e-01 -2.23675187e-01]\n",
      " [ 3.11729182e+00  2.40450826e+00]\n",
      " [-9.21956312e-01 -2.23675187e-01]\n",
      " [ 3.76643089e-01  1.09041654e+00]\n",
      " [-8.56523009e-01 -1.53776691e+00]\n",
      " [-9.62222960e-01 -2.23675187e-01]\n",
      " [ 7.65467909e-01  1.09041654e+00]\n",
      " [ 1.29648433e+00  1.09041654e+00]\n",
      " [-2.94048269e-01 -2.23675187e-01]\n",
      " [-1.41790005e-01 -1.53776691e+00]\n",
      " [-4.99156507e-01 -2.23675187e-01]\n",
      " [-4.86733818e-02  1.09041654e+00]\n",
      " [ 2.37739217e+00 -2.23675187e-01]\n",
      " [-1.13335621e+00 -2.23675187e-01]\n",
      " [-6.82873089e-01 -2.23675187e-01]\n",
      " [ 6.61026291e-01 -2.23675187e-01]\n",
      " [ 2.50809813e-01 -2.23675187e-01]\n",
      " [ 8.00701226e-01 -2.23675187e-01]\n",
      " [-2.03448310e-01 -1.53776691e+00]\n",
      " [-1.25918949e+00 -2.85185864e+00]\n",
      " [ 4.94765729e-02  1.09041654e+00]\n",
      " [ 1.42986760e+00 -2.23675187e-01]\n",
      " [-2.38681627e-01  1.09041654e+00]\n",
      " [-7.09298077e-01 -2.23675187e-01]\n",
      " [-9.58447962e-01 -2.23675187e-01]\n",
      " [ 1.65243186e-01  1.09041654e+00]\n",
      " [ 2.78635031e+00  1.09041654e+00]\n",
      " [ 2.02993169e-01  1.09041654e+00]\n",
      " [-4.23656542e-01 -1.53776691e+00]\n",
      " [ 2.98626458e-01 -2.23675187e-01]\n",
      " [ 7.12617934e-01  1.09041654e+00]\n",
      " [-1.00752294e+00 -2.23675187e-01]\n",
      " [-1.44542274e+00 -1.53776691e+00]\n",
      " [-1.87089985e-01  1.09041654e+00]\n",
      " [-1.00374794e+00 -2.23675187e-01]]\n",
      "[2000.68085106    3.17021277]\n",
      "[7.94702354e+02 7.60981887e-01]\n"
     ]
    }
   ],
   "source": [
    "    part3_1()"
   ]
  },
  {
   "cell_type": "code",
   "execution_count": 4,
   "metadata": {},
   "outputs": [
    {
     "data": {
      "image/png": "[encoded data removed]",
      "text/plain": [
       "<Figure size 432x288 with 1 Axes>"
      ]
     },
     "metadata": {
      "needs_background": "light"
     },
     "output_type": "display_data"
    },
    {
     "name": "stdout",
     "output_type": "stream",
     "text": [
      "[289314.62033778]\n"
     ]
    },
    {
     "data": {
      "image/png": "[encoded data removed]",
      "text/plain": [
       "<Figure size 432x288 with 1 Axes>"
      ]
     },
     "metadata": {
      "needs_background": "light"
     },
     "output_type": "display_data"
    },
    {
     "name": "stdout",
     "output_type": "stream",
     "text": [
      "[293149.9943295]\n"
     ]
    },
    {
     "data": {
      "image/png": "[encoded data removed]",
      "text/plain": [
       "<Figure size 432x288 with 1 Axes>"
      ]
     },
     "metadata": {
      "needs_background": "light"
     },
     "output_type": "display_data"
    },
    {
     "name": "stdout",
     "output_type": "stream",
     "text": [
      "[293081.46462228]\n"
     ]
    },
    {
     "data": {
      "image/png": "[encoded data removed]",
      "text/plain": [
       "<Figure size 432x288 with 1 Axes>"
      ]
     },
     "metadata": {
      "needs_background": "light"
     },
     "output_type": "display_data"
    },
    {
     "name": "stdout",
     "output_type": "stream",
     "text": [
      "[293081.4643349]\n"
     ]
    },
    {
     "data": {
      "image/png": "[encoded data removed]",
      "text/plain": [
       "<Figure size 432x288 with 1 Axes>"
      ]
     },
     "metadata": {
      "needs_background": "light"
     },
     "output_type": "display_data"
    },
    {
     "name": "stdout",
     "output_type": "stream",
     "text": [
      "[293081.4643349]\n"
     ]
    }
   ],
   "source": [
    "    part3_2()"
   ]
  },
  {
   "cell_type": "code",
   "execution_count": 5,
   "metadata": {},
   "outputs": [
    {
     "name": "stdout",
     "output_type": "stream",
     "text": [
      "[293081.46433489]\n"
     ]
    }
   ],
   "source": [
    "    part3_3()"
   ]
  },
  {
   "cell_type": "code",
   "execution_count": null,
   "metadata": {},
   "outputs": [],
   "source": []
  }
 ],
 "metadata": {
  "kernelspec": {
   "display_name": "Python 3",
   "language": "python",
   "name": "python3"
  },
  "language_info": {
   "codemirror_mode": {
    "name": "ipython",
    "version": 3
   },
   "file_extension": ".py",
   "mimetype": "text/x-python",
   "name": "python",
   "nbconvert_exporter": "python",
   "pygments_lexer": "ipython3",
   "version": "3.7.4"
  }
 },
 "nbformat": 4,
 "nbformat_minor": 4
}
